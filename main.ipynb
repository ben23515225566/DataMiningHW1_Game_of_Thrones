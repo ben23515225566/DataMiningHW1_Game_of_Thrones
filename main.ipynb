{
 "cells": [
  {
   "cell_type": "code",
   "execution_count": 1,
   "metadata": {},
   "outputs": [],
   "source": [
    "# Import packages\n",
    "\n",
    "import pandas as pd\n",
    "import numpy as np\n",
    "\n",
    "from sklearn.model_selection import train_test_split\n",
    "from sklearn import tree\n",
    "from sklearn.metrics import classification_report, confusion_matrix"
   ]
  },
  {
   "cell_type": "code",
   "execution_count": 2,
   "metadata": {},
   "outputs": [
    {
     "name": "stdout",
     "output_type": "stream",
     "text": [
      "character_deaths length: 917\n"
     ]
    }
   ],
   "source": [
    "# Import dataset\n",
    "\n",
    "character_deaths = pd.read_csv(\"./Dataset/character-deaths.csv\")\n",
    "print(f\"character_deaths length: {len(character_deaths)}\")"
   ]
  },
  {
   "cell_type": "code",
   "execution_count": 3,
   "metadata": {},
   "outputs": [
    {
     "name": "stdout",
     "output_type": "stream",
     "text": [
      "     Book Intro Chapter  Gender  Nobility  GoT  CoK  SoS  FfC  DwD  Label  \\\n",
      "0              1.355440       1         1    1    1    1    1    0      0   \n",
      "1              1.010617       1         1    0    0    1    0    0      1   \n",
      "2             -1.156840       1         1    0    0    0    0    1      0   \n",
      "3             -0.417934       1         1    0    0    0    0    1      1   \n",
      "4             -1.403142       1         1    0    0    1    0    0      0   \n",
      "..                  ...     ...       ...  ...  ...  ...  ...  ...    ...   \n",
      "912           -0.368674       1         0    0    0    1    0    0      0   \n",
      "913            0.912096       1         0    0    0    0    0    1      1   \n",
      "914           -0.171632       1         1    0    0    0    0    1      1   \n",
      "915            2.192866       1         0    0    0    1    0    0      1   \n",
      "916            0.025409       1         1    0    0    0    1    0      1   \n",
      "\n",
      "     Allegiances_0  ...  Allegiances_House Tully  Allegiances_House Tyrell  \\\n",
      "0                0  ...                        0                         0   \n",
      "1                1  ...                        0                         0   \n",
      "2                0  ...                        0                         0   \n",
      "3                0  ...                        0                         0   \n",
      "4                0  ...                        0                         0   \n",
      "..             ...  ...                      ...                       ...   \n",
      "912              1  ...                        0                         0   \n",
      "913              1  ...                        0                         0   \n",
      "914              1  ...                        0                         0   \n",
      "915              0  ...                        0                         0   \n",
      "916              0  ...                        0                         0   \n",
      "\n",
      "     Allegiances_Lannister  Allegiances_Martell  Allegiances_Night's Watch  \\\n",
      "0                        1                    0                          0   \n",
      "1                        0                    0                          0   \n",
      "2                        0                    0                          0   \n",
      "3                        0                    0                          0   \n",
      "4                        1                    0                          0   \n",
      "..                     ...                  ...                        ...   \n",
      "912                      0                    0                          0   \n",
      "913                      0                    0                          0   \n",
      "914                      0                    0                          0   \n",
      "915                      0                    0                          0   \n",
      "916                      0                    0                          0   \n",
      "\n",
      "     Allegiances_Stark  Allegiances_Targaryen  Allegiances_Tully  \\\n",
      "0                    0                      0                  0   \n",
      "1                    0                      0                  0   \n",
      "2                    0                      0                  0   \n",
      "3                    0                      0                  0   \n",
      "4                    0                      0                  0   \n",
      "..                 ...                    ...                ...   \n",
      "912                  0                      0                  0   \n",
      "913                  0                      0                  0   \n",
      "914                  0                      0                  0   \n",
      "915                  0                      0                  0   \n",
      "916                  0                      0                  0   \n",
      "\n",
      "     Allegiances_Tyrell  Allegiances_Wildling  \n",
      "0                     0                     0  \n",
      "1                     0                     0  \n",
      "2                     0                     0  \n",
      "3                     0                     0  \n",
      "4                     0                     0  \n",
      "..                  ...                   ...  \n",
      "912                   0                     0  \n",
      "913                   0                     0  \n",
      "914                   0                     0  \n",
      "915                   0                     1  \n",
      "916                   1                     0  \n",
      "\n",
      "[917 rows x 30 columns]\n"
     ]
    },
    {
     "name": "stderr",
     "output_type": "stream",
     "text": [
      "/var/folders/xg/8643kmc52gnflnqb20r5s9hr0000gn/T/ipykernel_23379/3428741879.py:4: SettingWithCopyWarning: \n",
      "A value is trying to be set on a copy of a slice from a DataFrame\n",
      "\n",
      "See the caveats in the documentation: https://pandas.pydata.org/pandas-docs/stable/user_guide/indexing.html#returning-a-view-versus-a-copy\n",
      "  character_deaths[\"Label\"][character_deaths[\"Book of Death\"].notnull()] = 1\n"
     ]
    }
   ],
   "source": [
    "# Data preprocessing\n",
    "## Make label\n",
    "character_deaths[\"Label\"] = 0\n",
    "character_deaths[\"Label\"][character_deaths[\"Book of Death\"].notnull()] = 1\n",
    "dataset = character_deaths.drop([\"Death Year\", \"Book of Death\", \"Death Chapter\"], axis = 1)\n",
    "## Fillna 0\n",
    "dataset = dataset.fillna(0)\n",
    "## Transfer to dummies\n",
    "dataset = pd.get_dummies(dataset, columns=[\"Allegiances\"], dtype = int)\n",
    "## Drop name\n",
    "dataset = dataset.drop([\"Name\"], axis = 1)\n",
    "print(dataset)"
   ]
  },
  {
   "cell_type": "code",
   "execution_count": 4,
   "metadata": {},
   "outputs": [],
   "source": [
    "# Split dataset\n",
    "X = dataset.drop([\"Label\"], axis = 1)\n",
    "y = dataset[\"Label\"]\n",
    "X_train, X_test, y_train, y_test = train_test_split(X, y, test_size = 0.25)"
   ]
  },
  {
   "cell_type": "code",
   "execution_count": 11,
   "metadata": {},
   "outputs": [],
   "source": [
    "# Build model\n",
    "classifier = tree.DecisionTreeClassifier(max_depth=25)\n",
    "classifier = classifier.fit(X_train, y_train)\n",
    "# Prediction\n",
    "prediction = classifier.predict(X_test)"
   ]
  },
  {
   "cell_type": "code",
   "execution_count": 12,
   "metadata": {},
   "outputs": [
    {
     "name": "stdout",
     "output_type": "stream",
     "text": [
      "confusion_matrix: \n",
      "[[122  28]\n",
      " [ 33  47]]\n",
      "              precision    recall  f1-score   support\n",
      "\n",
      "           0       0.79      0.81      0.80       150\n",
      "           1       0.63      0.59      0.61        80\n",
      "\n",
      "    accuracy                           0.73       230\n",
      "   macro avg       0.71      0.70      0.70       230\n",
      "weighted avg       0.73      0.73      0.73       230\n",
      "\n"
     ]
    }
   ],
   "source": [
    "# Confusion metrix\n",
    "print(f\"confusion_matrix: \\n{confusion_matrix(y_test, prediction)}\")\n",
    "# Classify report\n",
    "print(classification_report(y_test, prediction))"
   ]
  },
  {
   "cell_type": "code",
   "execution_count": null,
   "metadata": {},
   "outputs": [],
   "source": [
    "# Plot tree\n",
    "tree.plot_tree(classifier)"
   ]
  },
  {
   "cell_type": "code",
   "execution_count": 13,
   "metadata": {},
   "outputs": [
    {
     "name": "stdout",
     "output_type": "stream",
     "text": [
      "     Character  Death\n",
      "0          668      1\n",
      "1           30      0\n",
      "2          377      1\n",
      "3          535      0\n",
      "4          806      1\n",
      "..         ...    ...\n",
      "225        259      0\n",
      "226        490      0\n",
      "227        302      0\n",
      "228          7      0\n",
      "229        891      0\n",
      "\n",
      "[230 rows x 2 columns]\n",
      "Done\n"
     ]
    }
   ],
   "source": [
    "# Make submission file for kaggle\n",
    "from datetime import datetime\n",
    "testData = pd.read_csv(\"./Dataset/test.csv\")\n",
    "testData = testData.fillna(0)\n",
    "testData = pd.get_dummies(testData, columns=[\"Allegiances\"], dtype=int)\n",
    "character = testData[\"Character\"]\n",
    "testData = testData.drop([\"Name\", \"Character\"], axis = 1)\n",
    "prediction = classifier.predict(testData)\n",
    "submission = {\"Character\": character, \"Death\": prediction}\n",
    "submission = pd.DataFrame(submission)\n",
    "submission.to_csv(f\"./Dataset/submission_{datetime.now()}.csv\", index=False)\n",
    "print(submission)\n",
    "print(\"Done\")"
   ]
  },
  {
   "cell_type": "code",
   "execution_count": null,
   "metadata": {},
   "outputs": [],
   "source": []
  }
 ],
 "metadata": {
  "kernelspec": {
   "display_name": "Python 3",
   "language": "python",
   "name": "python3"
  },
  "language_info": {
   "codemirror_mode": {
    "name": "ipython",
    "version": 3
   },
   "file_extension": ".py",
   "mimetype": "text/x-python",
   "name": "python",
   "nbconvert_exporter": "python",
   "pygments_lexer": "ipython3",
   "version": "3.9.6"
  },
  "orig_nbformat": 4
 },
 "nbformat": 4,
 "nbformat_minor": 2
}
